{
 "cells": [
  {
   "cell_type": "markdown",
   "metadata": {},
   "source": [
    "## **Importing the necessary packages**"
   ]
  },
  {
   "cell_type": "code",
   "execution_count": 23,
   "metadata": {},
   "outputs": [],
   "source": [
    "from keras import models\n",
    "from keras import layers\n",
    "import numpy as np\n",
    "np.random.seed(123)\n",
    "import matplotlib.pyplot as plt\n",
    "from keras.preprocessing.image import ImageDataGenerator, array_to_img, img_to_array, load_img\n",
    "from keras.optimizers import Adam\n",
    "from sklearn.metrics import roc_auc_score, roc_curve, auc, f1_score, accuracy_score, confusion_matrix, ConfusionMatrixDisplay, classification_report\n",
    "from sklearn.metrics import precision_recall_fscore_support as score"
   ]
  },
  {
   "cell_type": "markdown",
   "metadata": {},
   "source": [
    "## **Reading in the data**"
   ]
  },
  {
   "cell_type": "code",
   "execution_count": 7,
   "metadata": {},
   "outputs": [],
   "source": [
    "train_folder = '/Users/alexandrabruno/Documents/flatiron/phase_4_project/CellData_2/chest_xray/split/train'\n",
    "val_folder = '/Users/alexandrabruno/Documents/flatiron/phase_4_project/CellData_2/chest_xray/split/validation'\n",
    "test_folder = '/Users/alexandrabruno/Documents/flatiron/phase_4_project/CellData_2/chest_xray/split/test'"
   ]
  },
  {
   "cell_type": "markdown",
   "metadata": {},
   "source": [
    "The reason as to why we chose to make our target size 256,256 is because our pictures have high resolution. Making the images larger would allow us to capture more information about the picture.\n",
    "\n",
    "We chose to shuffle the images in the train and validation sets because we wanted to train our model to get better at predicting unforseen images, having a shuffled set of images within each batch would help to do this. "
   ]
  },
  {
   "cell_type": "code",
   "execution_count": 8,
   "metadata": {},
   "outputs": [
    {
     "name": "stdout",
     "output_type": "stream",
     "text": [
      "Found 585 images belonging to 2 classes.\n",
      "Found 1170 images belonging to 2 classes.\n",
      "Found 4101 images belonging to 2 classes.\n"
     ]
    }
   ],
   "source": [
    "# get all the data in the directory split/test (585 images), and reshape them\n",
    "test_generator = ImageDataGenerator(rescale=1./255).flow_from_directory(\n",
    "    test_folder,class_mode = 'binary',color_mode = 'grayscale',shuffle = False,\n",
    "        target_size=(256,256), batch_size =32) \n",
    "\n",
    "# get all the data in the directory split/validation (1170 images), and reshape them\n",
    "val_generator = ImageDataGenerator(rescale=1./255).flow_from_directory(\n",
    "    val_folder,class_mode = 'binary',color_mode = 'grayscale', shuffle = False,\n",
    "        target_size=(256,256), batch_size =32)\n",
    "\n",
    "# get all the data in the directory split/train (4101 images), and reshape them\n",
    "train_generator = ImageDataGenerator(rescale=1./255).flow_from_directory(\n",
    "    train_folder,class_mode = 'binary',color_mode = 'grayscale',\n",
    "        target_size=(256,256), batch_size=32)"
   ]
  },
  {
   "cell_type": "code",
   "execution_count": 5,
   "metadata": {},
   "outputs": [],
   "source": [
    "# create the data sets\n",
    "train_images, train_labels = next(train_generator)\n",
    "test_images, test_labels = next(test_generator)\n",
    "val_images, val_labels = next(val_generator)"
   ]
  },
  {
   "cell_type": "markdown",
   "metadata": {},
   "source": [
    "## **Modeling Process**"
   ]
  },
  {
   "cell_type": "markdown",
   "metadata": {},
   "source": [
    "For our baseline model we chose to use padding in order to preserve more information about the images through the training process. For this model we wanted less layers to see if the predictive power of a model with fewer layers would still be strong. The more layers added to the model the more computation is involved and the longer time the model takes to train.\n",
    "\n",
    "This model ultimately has less layers than our final model but it's predictive power is still strong."
   ]
  },
  {
   "cell_type": "code",
   "execution_count": null,
   "metadata": {},
   "outputs": [],
   "source": [
    "# Baseline model\n",
    "model = models.Sequential()\n",
    "\n",
    "model.add(layers.Conv2D(32, (3, 3), activation='relu',padding='same',\n",
    "                        input_shape=(256,256,1 )))\n",
    "model.add(layers.MaxPooling2D((2, 2)))\n",
    "\n",
    "model.add(layers.Flatten())\n",
    "\n",
    "model.add(layers.Dense(1, activation='sigmoid'))"
   ]
  },
  {
   "cell_type": "code",
   "execution_count": null,
   "metadata": {},
   "outputs": [],
   "source": [
    "model.compile(loss='binary_crossentropy',\n",
    "              optimizer=Adam(),\n",
    "              metrics=['acc'])\n",
    "\n",
    "history = model.fit(train_generator,\n",
    "                    epochs=30, \n",
    "                    validation_data= val_generator)"
   ]
  },
  {
   "cell_type": "code",
   "execution_count": 42,
   "metadata": {},
   "outputs": [],
   "source": [
    "# Loading in our baseline model\n",
    "model = models.load_model('baseline_model')"
   ]
  },
  {
   "cell_type": "code",
   "execution_count": 43,
   "metadata": {},
   "outputs": [],
   "source": [
    "preds = model.predict(test_generator)"
   ]
  },
  {
   "cell_type": "code",
   "execution_count": null,
   "metadata": {},
   "outputs": [],
   "source": [
    "# A function to get the labels of our predictions\n",
    "def pred_labels(predictions, threshold):\n",
    "    labels = []\n",
    "    for pred in predictions: \n",
    "        if pred >= threshold:\n",
    "            labels.append(1)\n",
    "        else:\n",
    "            labels.append(0)\n",
    "    return labels"
   ]
  },
  {
   "cell_type": "code",
   "execution_count": 44,
   "metadata": {},
   "outputs": [
    {
     "data": {
      "image/png": "[encoded data removed]",
      "text/plain": [
       "<Figure size 432x288 with 2 Axes>"
      ]
     },
     "metadata": {
      "needs_background": "light"
     },
     "output_type": "display_data"
    },
    {
     "name": "stdout",
     "output_type": "stream",
     "text": [
      "              precision    recall  f1-score   support\n",
      "\n",
      "           0       0.93      0.94      0.93       158\n",
      "           1       0.98      0.97      0.98       427\n",
      "\n",
      "    accuracy                           0.96       585\n",
      "   macro avg       0.95      0.96      0.95       585\n",
      "weighted avg       0.96      0.96      0.96       585\n",
      "\n"
     ]
    }
   ],
   "source": [
    "p_labels = pred_labels(preds,.5)\n",
    "\n",
    "test_labels = test_generator.labels\n",
    "\n",
    "cm = confusion_matrix(y_true = test_labels, y_pred = p_labels )\n",
    "disp = ConfusionMatrixDisplay(confusion_matrix=cm)\n",
    "disp.plot(cmap='Blues')\n",
    "plt.title('Confusion Matrix: CNN')\n",
    "plt.show()\n",
    "\n",
    "print(classification_report(test_labels, p_labels))"
   ]
  },
  {
   "cell_type": "markdown",
   "metadata": {},
   "source": [
    "From the results we can see that our model is fairly good at predicting both the majority and minority classes. For this problem we chose to focus on the precision metric. This is because properly diagnosing pneumonia is very important- letting someone who has pneumonia go untreated can be fatal, and treating someone for pneumonia when they don't have the illness, of course, is not optimal for many reasons."
   ]
  },
  {
   "cell_type": "markdown",
   "metadata": {},
   "source": [
    "### **Faster Model**\n",
    "\n",
    "For this mode chose to have a smaller number of layers and convolutions in order to see how powerful the models predictive power would be with a simpler structure. This models predictive power is about the same as our baseline model, and it marginally does better at predicting the minority class. "
   ]
  },
  {
   "cell_type": "code",
   "execution_count": null,
   "metadata": {},
   "outputs": [],
   "source": [
    "# Fast model\n",
    "model = models.Sequential()\n",
    "\n",
    "model.add(layers.Conv2D(16, (3, 3), activation='relu',padding='same',\n",
    "                        input_shape=(256,256,1 )))\n",
    "model.add(layers.MaxPooling2D((2, 2)))\n",
    "\n",
    "model.add(layers.Flatten())\n",
    "\n",
    "model.add(layers.Dense(1, activation='sigmoid'))"
   ]
  },
  {
   "cell_type": "code",
   "execution_count": 32,
   "metadata": {},
   "outputs": [],
   "source": [
    "# loading in the model\n",
    "model = models.load_model('faster_model')"
   ]
  },
  {
   "cell_type": "code",
   "execution_count": 34,
   "metadata": {},
   "outputs": [],
   "source": [
    "preds = model.predict(test_generator)"
   ]
  },
  {
   "cell_type": "code",
   "execution_count": 35,
   "metadata": {},
   "outputs": [
    {
     "data": {
      "image/png": "[encoded data removed]",
      "text/plain": [
       "<Figure size 432x288 with 2 Axes>"
      ]
     },
     "metadata": {
      "needs_background": "light"
     },
     "output_type": "display_data"
    },
    {
     "name": "stdout",
     "output_type": "stream",
     "text": [
      "              precision    recall  f1-score   support\n",
      "\n",
      "           0       0.92      0.94      0.93       158\n",
      "           1       0.98      0.97      0.97       427\n",
      "\n",
      "    accuracy                           0.96       585\n",
      "   macro avg       0.95      0.96      0.95       585\n",
      "weighted avg       0.96      0.96      0.96       585\n",
      "\n"
     ]
    }
   ],
   "source": [
    "p_labels = pred_labels(preds,.5)\n",
    "\n",
    "test_labels = test_generator.labels\n",
    "\n",
    "cm = confusion_matrix(y_true = test_labels, y_pred = p_labels )\n",
    "disp = ConfusionMatrixDisplay(confusion_matrix=cm)\n",
    "disp.plot(cmap='Blues')\n",
    "plt.title('Confusion Matrix: CNN')\n",
    "plt.show()\n",
    "\n",
    "print(classification_report(test_labels, p_labels))"
   ]
  },
  {
   "cell_type": "markdown",
   "metadata": {},
   "source": [
    "The predictive power of this model is slightly weaker in comparison to our baseline. "
   ]
  },
  {
   "cell_type": "markdown",
   "metadata": {},
   "source": [
    "### **Final Model - Best Model**\n",
    "\n",
    "Our final model is the most complex. It initially had double the layers and took double the amount of time to run. We wanted to see how it would run with less layers, and it preformed just as well. We were able to save some time running the model by doing this. "
   ]
  },
  {
   "cell_type": "code",
   "execution_count": null,
   "metadata": {},
   "outputs": [],
   "source": [
    "# Final model\n",
    "# We chose to have our number of convolutions to move in ascending order \n",
    "#  until we reach to 256, the the number of convolutions begin to decrease \n",
    "\n",
    "\n",
    "model = models.Sequential()\n",
    "model.add(layers.Conv2D(32, (3, 3), activation='relu',padding='same',\n",
    "                        input_shape=(256 ,256, 1)))\n",
    "model.add(layers.MaxPooling2D((2, 2)))\n",
    "\n",
    "model.add(layers.Conv2D(64, (3, 3), activation='relu',padding='same'))\n",
    "model.add(layers.MaxPooling2D((2, 2)))\n",
    "\n",
    "model.add(layers.Conv2D(128, (3, 3), activation='relu',padding='same'))\n",
    "model.add(layers.MaxPooling2D((2, 2)))\n",
    "\n",
    "model.add(layers.Conv2D(256, (3, 3), activation='relu',padding='same'))\n",
    "model.add(layers.MaxPooling2D((2, 2)))\n",
    "\n",
    "model.add(layers.Conv2D(128, (3, 3), activation='relu',padding = 'same'))\n",
    "model.add(layers.Dropout(.2))\n",
    "\n",
    "model.add(layers.Flatten())\n",
    "\n",
    "model.add(layers.Dense(64, activation='relu'))\n",
    "model.add(layers.Dropout(.2))\n",
    "\n",
    "model.add(layers.Dense(1, activation='sigmoid'))\n",
    "\n",
    "model.compile(loss='binary_crossentropy',\n",
    "              optimizer=Adam(),\n",
    "              metrics=['acc'])"
   ]
  },
  {
   "cell_type": "code",
   "execution_count": 4,
   "metadata": {},
   "outputs": [],
   "source": [
    "# Loading in our best model\n",
    "model = models.load_model('best_model')"
   ]
  },
  {
   "cell_type": "code",
   "execution_count": 9,
   "metadata": {},
   "outputs": [],
   "source": [
    "preds = model.predict(test_generator)"
   ]
  },
  {
   "cell_type": "code",
   "execution_count": 13,
   "metadata": {},
   "outputs": [],
   "source": [
    "p_labels = pred_labels(preds,.5)"
   ]
  },
  {
   "cell_type": "code",
   "execution_count": 11,
   "metadata": {},
   "outputs": [],
   "source": [
    "test_labels = test_generator.labels"
   ]
  },
  {
   "cell_type": "code",
   "execution_count": 14,
   "metadata": {},
   "outputs": [
    {
     "data": {
      "image/png": "[encoded data removed]",
      "text/plain": [
       "<Figure size 432x288 with 2 Axes>"
      ]
     },
     "metadata": {
      "needs_background": "light"
     },
     "output_type": "display_data"
    }
   ],
   "source": [
    "cm = confusion_matrix(y_true = test_labels, y_pred = p_labels )\n",
    "disp = ConfusionMatrixDisplay(confusion_matrix=cm)\n",
    "disp.plot(cmap='Blues')\n",
    "plt.title('Confusion Matrix: CNN')\n",
    "plt.show()"
   ]
  },
  {
   "cell_type": "code",
   "execution_count": 29,
   "metadata": {},
   "outputs": [
    {
     "name": "stdout",
     "output_type": "stream",
     "text": [
      "              precision    recall  f1-score   support\n",
      "\n",
      "           0       0.94      0.96      0.95       158\n",
      "           1       0.98      0.98      0.98       427\n",
      "\n",
      "    accuracy                           0.97       585\n",
      "   macro avg       0.96      0.97      0.96       585\n",
      "weighted avg       0.97      0.97      0.97       585\n",
      "\n"
     ]
    }
   ],
   "source": [
    "print(classification_report(test_labels, p_labels))"
   ]
  },
  {
   "cell_type": "markdown",
   "metadata": {},
   "source": [
    "This model preforms the best when it comes to predicting both the minority and majority class, and for this reason we chose this to be our final model. "
   ]
  },
  {
   "cell_type": "code",
   "execution_count": null,
   "metadata": {},
   "outputs": [],
   "source": []
  }
 ],
 "metadata": {
  "kernelspec": {
   "display_name": "learn-env",
   "language": "python",
   "name": "learn-env"
  },
  "language_info": {
   "codemirror_mode": {
    "name": "ipython",
    "version": 3
   },
   "file_extension": ".py",
   "mimetype": "text/x-python",
   "name": "python",
   "nbconvert_exporter": "python",
   "pygments_lexer": "ipython3",
   "version": "3.6.9"
  },
  "toc": {
   "base_numbering": 1,
   "nav_menu": {},
   "number_sections": true,
   "sideBar": true,
   "skip_h1_title": false,
   "title_cell": "Table of Contents",
   "title_sidebar": "Contents",
   "toc_cell": false,
   "toc_position": {},
   "toc_section_display": true,
   "toc_window_display": false
  }
 },
 "nbformat": 4,
 "nbformat_minor": 4
}
