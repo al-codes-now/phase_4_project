{
 "cells": [
  {
   "cell_type": "code",
   "execution_count": 30,
   "metadata": {},
   "outputs": [],
   "source": [
    "import os, shutil"
   ]
  },
  {
   "cell_type": "code",
   "execution_count": 35,
   "metadata": {},
   "outputs": [],
   "source": [
    "data_normal_dir = '/Users/alexandrabruno/Documents/flatiron/phase_4_project/CellData_2/chest_xray/NORMAL'\n",
    "data_pneumonia_dir = '/Users/alexandrabruno/Documents/flatiron/phase_4_project/CellData_2/chest_xray/PNEUMONIA'\n",
    "new_dir = '/Users/alexandrabruno/Documents/flatiron/phase_4_project/CellData_2/chest_xray/split/'"
   ]
  },
  {
   "cell_type": "code",
   "execution_count": 36,
   "metadata": {},
   "outputs": [],
   "source": [
    "normal_imgs = [x for x in os.listdir(data_normal_dir) if x.endswith('.jpeg')]"
   ]
  },
  {
   "cell_type": "code",
   "execution_count": 37,
   "metadata": {},
   "outputs": [],
   "source": [
    "pneumonia_imgs = [x for x in os.listdir(data_pneumonia_dir) if x.endswith('.jpeg')]"
   ]
  },
  {
   "cell_type": "code",
   "execution_count": 38,
   "metadata": {},
   "outputs": [],
   "source": [
    "os.mkdir(new_dir)"
   ]
  },
  {
   "cell_type": "code",
   "execution_count": 39,
   "metadata": {},
   "outputs": [],
   "source": [
    "train_folder = os.path.join(new_dir, 'train')\n",
    "train_normal = os.path.join(train_folder, 'normal')\n",
    "train_pneumonia = os.path.join(train_folder, 'pneumonia')\n",
    "\n",
    "test_folder = os.path.join(new_dir, 'test')\n",
    "test_normal = os.path.join(test_folder, 'normal')\n",
    "test_pneumonia = os.path.join(test_folder, 'pneumonia')\n",
    "\n",
    "val_folder = os.path.join(new_dir, 'validation')\n",
    "val_normal = os.path.join(val_folder, 'normal')\n",
    "val_pneumonia = os.path.join(val_folder, 'pneumonia')"
   ]
  },
  {
   "cell_type": "code",
   "execution_count": 40,
   "metadata": {},
   "outputs": [
    {
     "data": {
      "text/plain": [
       "'/Users/alexandrabruno/Documents/flatiron/phase_4_project/CellData_2/chest_xray/split/train/normal'"
      ]
     },
     "execution_count": 40,
     "metadata": {},
     "output_type": "execute_result"
    }
   ],
   "source": [
    "train_normal"
   ]
  },
  {
   "cell_type": "code",
   "execution_count": 41,
   "metadata": {},
   "outputs": [],
   "source": [
    "os.mkdir(train_folder)\n",
    "os.mkdir(train_normal)\n",
    "os.mkdir(train_pneumonia)\n",
    "\n",
    "os.mkdir(test_folder)\n",
    "os.mkdir(test_normal)\n",
    "os.mkdir(test_pneumonia)\n",
    "\n",
    "os.mkdir(val_folder)\n",
    "os.mkdir(val_normal)\n",
    "os.mkdir(val_pneumonia)"
   ]
  },
  {
   "cell_type": "markdown",
   "metadata": {},
   "source": [
    "**putting the images in their respective folders**\n",
    "\n",
    "**NORMAL**"
   ]
  },
  {
   "cell_type": "code",
   "execution_count": 42,
   "metadata": {},
   "outputs": [],
   "source": [
    "# train normal\n",
    "imgs = normal_imgs[:1109]\n",
    "for img in imgs:\n",
    "    origin = os.path.join(data_normal_dir, img)\n",
    "    destination = os.path.join(train_normal, img)\n",
    "    shutil.copyfile(origin, destination)"
   ]
  },
  {
   "cell_type": "code",
   "execution_count": 43,
   "metadata": {},
   "outputs": [],
   "source": [
    "# validation normal\n",
    "imgs = normal_imgs[1109:1425]\n",
    "for img in imgs:\n",
    "    origin = os.path.join(data_normal_dir, img)\n",
    "    destination = os.path.join(val_normal, img)\n",
    "    shutil.copyfile(origin, destination)"
   ]
  },
  {
   "cell_type": "code",
   "execution_count": 44,
   "metadata": {},
   "outputs": [],
   "source": [
    "# test normal\n",
    "imgs = normal_imgs[1425:1584]\n",
    "for img in imgs:\n",
    "    origin = os.path.join(data_normal_dir, img)\n",
    "    destination = os.path.join(test_normal, img)\n",
    "    shutil.copyfile(origin, destination)"
   ]
  },
  {
   "cell_type": "markdown",
   "metadata": {},
   "source": [
    "**PNEUMONIA**"
   ]
  },
  {
   "cell_type": "code",
   "execution_count": 45,
   "metadata": {},
   "outputs": [],
   "source": [
    "# train pneumonia\n",
    "imgs = pneumonia_imgs[:2992]\n",
    "for img in imgs:\n",
    "    origin = os.path.join(data_pneumonia_dir, img)\n",
    "    destination = os.path.join(train_pneumonia, img)\n",
    "    shutil.copyfile(origin, destination)"
   ]
  },
  {
   "cell_type": "code",
   "execution_count": 46,
   "metadata": {},
   "outputs": [],
   "source": [
    "# validation pneumonia\n",
    "imgs = pneumonia_imgs[2992:3846]\n",
    "for img in imgs:\n",
    "    origin = os.path.join(data_pneumonia_dir, img)\n",
    "    destination = os.path.join(val_pneumonia, img)\n",
    "    shutil.copyfile(origin, destination)"
   ]
  },
  {
   "cell_type": "code",
   "execution_count": 47,
   "metadata": {},
   "outputs": [],
   "source": [
    "# test pneumonia\n",
    "imgs = pneumonia_imgs[3846:4274]\n",
    "for img in imgs:\n",
    "    origin = os.path.join(data_pneumonia_dir, img)\n",
    "    destination = os.path.join(test_pneumonia, img)\n",
    "    shutil.copyfile(origin, destination)"
   ]
  },
  {
   "cell_type": "code",
   "execution_count": 48,
   "metadata": {},
   "outputs": [],
   "source": [
    "import time\n",
    "import matplotlib.pyplot as plt\n",
    "import scipy\n",
    "import numpy as np\n",
    "from PIL import Image\n",
    "from scipy import ndimage\n",
    "from keras.preprocessing.image import ImageDataGenerator, array_to_img, img_to_array, load_img\n",
    "\n",
    "np.random.seed(123)"
   ]
  },
  {
   "cell_type": "code",
   "execution_count": 49,
   "metadata": {},
   "outputs": [
    {
     "name": "stdout",
     "output_type": "stream",
     "text": [
      "Found 585 images belonging to 2 classes.\n",
      "Found 1170 images belonging to 2 classes.\n",
      "Found 4101 images belonging to 2 classes.\n"
     ]
    }
   ],
   "source": [
    "# get all the data in the directory split/test (180 images), and reshape them\n",
    "test_generator = ImageDataGenerator(rescale=1./255).flow_from_directory(\n",
    "        test_folder, \n",
    "        target_size=(64, 64), batch_size = 180) \n",
    "\n",
    "# get all the data in the directory split/validation (200 images), and reshape them\n",
    "val_generator = ImageDataGenerator(rescale=1./255).flow_from_directory(\n",
    "        val_folder, \n",
    "        target_size=(64, 64), batch_size = 200)\n",
    "\n",
    "# get all the data in the directory split/train (542 images), and reshape them\n",
    "train_generator = ImageDataGenerator(rescale=1./255).flow_from_directory(\n",
    "        train_folder, \n",
    "        target_size=(64, 64), batch_size=542)"
   ]
  },
  {
   "cell_type": "code",
   "execution_count": 50,
   "metadata": {},
   "outputs": [],
   "source": [
    "# create the data sets\n",
    "train_images, train_labels = next(train_generator)\n",
    "test_images, test_labels = next(test_generator)\n",
    "val_images, val_labels = next(val_generator)"
   ]
  },
  {
   "cell_type": "code",
   "execution_count": 51,
   "metadata": {},
   "outputs": [
    {
     "name": "stdout",
     "output_type": "stream",
     "text": [
      "Number of training samples: 542\n",
      "Number of testing samples: 180\n",
      "Number of validation samples: 200\n",
      "train_images shape: (542, 64, 64, 3)\n",
      "train_labels shape: (542, 2)\n",
      "test_images shape: (180, 64, 64, 3)\n",
      "test_labels shape: (180, 2)\n",
      "val_images shape: (200, 64, 64, 3)\n",
      "val_labels shape: (200, 2)\n"
     ]
    }
   ],
   "source": [
    "# Explore your dataset again\n",
    "m_train = train_images.shape[0]\n",
    "num_px = train_images.shape[1]\n",
    "m_test = test_images.shape[0]\n",
    "m_val = val_images.shape[0]\n",
    "\n",
    "print (\"Number of training samples: \" + str(m_train))\n",
    "print (\"Number of testing samples: \" + str(m_test))\n",
    "print (\"Number of validation samples: \" + str(m_val))\n",
    "print (\"train_images shape: \" + str(train_images.shape))\n",
    "print (\"train_labels shape: \" + str(train_labels.shape))\n",
    "print (\"test_images shape: \" + str(test_images.shape))\n",
    "print (\"test_labels shape: \" + str(test_labels.shape))\n",
    "print (\"val_images shape: \" + str(val_images.shape))\n",
    "print (\"val_labels shape: \" + str(val_labels.shape))"
   ]
  },
  {
   "cell_type": "code",
   "execution_count": 52,
   "metadata": {},
   "outputs": [
    {
     "name": "stdout",
     "output_type": "stream",
     "text": [
      "(542, 12288)\n",
      "(180, 12288)\n",
      "(200, 12288)\n"
     ]
    }
   ],
   "source": [
    "train_img = train_images.reshape(train_images.shape[0], -1)\n",
    "test_img = test_images.reshape(test_images.shape[0], -1)\n",
    "val_img = val_images.reshape(val_images.shape[0], -1)\n",
    "\n",
    "print(train_img.shape)\n",
    "print(test_img.shape)\n",
    "print(val_img.shape)"
   ]
  },
  {
   "cell_type": "code",
   "execution_count": 53,
   "metadata": {},
   "outputs": [],
   "source": [
    "train_y = np.reshape(train_labels[:,0], (542,1))\n",
    "test_y = np.reshape(test_labels[:,0], (180,1))\n",
    "val_y = np.reshape(val_labels[:,0], (200,1))"
   ]
  },
  {
   "cell_type": "code",
   "execution_count": 54,
   "metadata": {},
   "outputs": [],
   "source": [
    "# Build a baseline fully connected model\n",
    "from keras import models\n",
    "from keras import layers\n",
    "np.random.seed(123)\n",
    "model = models.Sequential()\n",
    "model.add(layers.Dense(20, activation='relu', input_shape=(12288,))) # 2 hidden layers\n",
    "model.add(layers.Dense(7, activation='relu'))\n",
    "model.add(layers.Dense(5, activation='relu'))\n",
    "model.add(layers.Dense(1, activation='sigmoid'))"
   ]
  },
  {
   "cell_type": "code",
   "execution_count": 55,
   "metadata": {},
   "outputs": [
    {
     "name": "stdout",
     "output_type": "stream",
     "text": [
      "Epoch 1/50\n",
      "17/17 [==============================] - 1s 22ms/step - loss: 0.6934 - accuracy: 0.6442 - val_loss: 0.6793 - val_accuracy: 0.7300\n",
      "Epoch 2/50\n",
      "17/17 [==============================] - 0s 10ms/step - loss: 0.6760 - accuracy: 0.7276 - val_loss: 0.6651 - val_accuracy: 0.7300\n",
      "Epoch 3/50\n",
      "17/17 [==============================] - 0s 10ms/step - loss: 0.6607 - accuracy: 0.7377 - val_loss: 0.6529 - val_accuracy: 0.7300\n",
      "Epoch 4/50\n",
      "17/17 [==============================] - 0s 9ms/step - loss: 0.6522 - accuracy: 0.7205 - val_loss: 0.6425 - val_accuracy: 0.7300\n",
      "Epoch 5/50\n",
      "17/17 [==============================] - 0s 9ms/step - loss: 0.6373 - accuracy: 0.7421 - val_loss: 0.6337 - val_accuracy: 0.7300\n",
      "Epoch 6/50\n",
      "17/17 [==============================] - 0s 9ms/step - loss: 0.6306 - accuracy: 0.7336 - val_loss: 0.6261 - val_accuracy: 0.7300\n",
      "Epoch 7/50\n",
      "17/17 [==============================] - 0s 10ms/step - loss: 0.6223 - accuracy: 0.7358 - val_loss: 0.6197 - val_accuracy: 0.7300\n",
      "Epoch 8/50\n",
      "17/17 [==============================] - 0s 16ms/step - loss: 0.6046 - accuracy: 0.7620 - val_loss: 0.6142 - val_accuracy: 0.7300\n",
      "Epoch 9/50\n",
      "17/17 [==============================] - 0s 15ms/step - loss: 0.6050 - accuracy: 0.7470 - val_loss: 0.6095 - val_accuracy: 0.7300\n",
      "Epoch 10/50\n",
      "17/17 [==============================] - 0s 10ms/step - loss: 0.5946 - accuracy: 0.7572 - val_loss: 0.6055 - val_accuracy: 0.7300\n",
      "Epoch 11/50\n",
      "17/17 [==============================] - 0s 14ms/step - loss: 0.5918 - accuracy: 0.7538 - val_loss: 0.6021 - val_accuracy: 0.7300\n",
      "Epoch 12/50\n",
      "17/17 [==============================] - 0s 17ms/step - loss: 0.5845 - accuracy: 0.7590 - val_loss: 0.5991 - val_accuracy: 0.7300\n",
      "Epoch 13/50\n",
      "17/17 [==============================] - 0s 13ms/step - loss: 0.5848 - accuracy: 0.7524 - val_loss: 0.5966 - val_accuracy: 0.7300\n",
      "Epoch 14/50\n",
      "17/17 [==============================] - 0s 10ms/step - loss: 0.5803 - accuracy: 0.7547 - val_loss: 0.5945 - val_accuracy: 0.7300\n",
      "Epoch 15/50\n",
      "17/17 [==============================] - 0s 9ms/step - loss: 0.5819 - accuracy: 0.7481 - val_loss: 0.5926 - val_accuracy: 0.7300\n",
      "Epoch 16/50\n",
      "17/17 [==============================] - 0s 16ms/step - loss: 0.5786 - accuracy: 0.7497 - val_loss: 0.5911 - val_accuracy: 0.7300\n",
      "Epoch 17/50\n",
      "17/17 [==============================] - 0s 13ms/step - loss: 0.5800 - accuracy: 0.7450 - val_loss: 0.5898 - val_accuracy: 0.7300\n",
      "Epoch 18/50\n",
      "17/17 [==============================] - 0s 9ms/step - loss: 0.5702 - accuracy: 0.7561 - val_loss: 0.5886 - val_accuracy: 0.7300\n",
      "Epoch 19/50\n",
      "17/17 [==============================] - 0s 13ms/step - loss: 0.6052 - accuracy: 0.7081 - val_loss: 0.5878 - val_accuracy: 0.7300\n",
      "Epoch 20/50\n",
      "17/17 [==============================] - 0s 10ms/step - loss: 0.5904 - accuracy: 0.7263 - val_loss: 0.5869 - val_accuracy: 0.7300\n",
      "Epoch 21/50\n",
      "17/17 [==============================] - 0s 13ms/step - loss: 0.5806 - accuracy: 0.7377 - val_loss: 0.5862 - val_accuracy: 0.7300\n",
      "Epoch 22/50\n",
      "17/17 [==============================] - 0s 10ms/step - loss: 0.5895 - accuracy: 0.7260 - val_loss: 0.5857 - val_accuracy: 0.7300\n",
      "Epoch 23/50\n",
      "17/17 [==============================] - 0s 10ms/step - loss: 0.5817 - accuracy: 0.7347 - val_loss: 0.5851 - val_accuracy: 0.7300\n",
      "Epoch 24/50\n",
      "17/17 [==============================] - 0s 9ms/step - loss: 0.5841 - accuracy: 0.7313 - val_loss: 0.5847 - val_accuracy: 0.7300\n",
      "Epoch 25/50\n",
      "17/17 [==============================] - 0s 10ms/step - loss: 0.6066 - accuracy: 0.7048 - val_loss: 0.5843 - val_accuracy: 0.7300\n",
      "Epoch 26/50\n",
      "17/17 [==============================] - 0s 9ms/step - loss: 0.5619 - accuracy: 0.7557 - val_loss: 0.5843 - val_accuracy: 0.7300\n",
      "Epoch 27/50\n",
      "17/17 [==============================] - 0s 8ms/step - loss: 0.5829 - accuracy: 0.7316 - val_loss: 0.5841 - val_accuracy: 0.7300\n",
      "Epoch 28/50\n",
      "17/17 [==============================] - 0s 16ms/step - loss: 0.6027 - accuracy: 0.7094 - val_loss: 0.5839 - val_accuracy: 0.7300\n",
      "Epoch 29/50\n",
      "17/17 [==============================] - 0s 17ms/step - loss: 0.5788 - accuracy: 0.7355 - val_loss: 0.5837 - val_accuracy: 0.7300\n",
      "Epoch 30/50\n",
      "17/17 [==============================] - 0s 15ms/step - loss: 0.5640 - accuracy: 0.7513 - val_loss: 0.5835 - val_accuracy: 0.7300\n",
      "Epoch 31/50\n",
      "17/17 [==============================] - 0s 15ms/step - loss: 0.5634 - accuracy: 0.7515 - val_loss: 0.5835 - val_accuracy: 0.7300\n",
      "Epoch 32/50\n",
      "17/17 [==============================] - 0s 16ms/step - loss: 0.5561 - accuracy: 0.7590 - val_loss: 0.5832 - val_accuracy: 0.7300\n",
      "Epoch 33/50\n",
      "17/17 [==============================] - 0s 14ms/step - loss: 0.5562 - accuracy: 0.7587 - val_loss: 0.5818 - val_accuracy: 0.7300\n",
      "Epoch 34/50\n",
      "17/17 [==============================] - 0s 11ms/step - loss: 0.5910 - accuracy: 0.7194 - val_loss: 0.5778 - val_accuracy: 0.7300\n",
      "Epoch 35/50\n",
      "17/17 [==============================] - 0s 11ms/step - loss: 0.5551 - accuracy: 0.7532 - val_loss: 0.5832 - val_accuracy: 0.7300\n",
      "Epoch 36/50\n",
      "17/17 [==============================] - 0s 16ms/step - loss: 0.5604 - accuracy: 0.7532 - val_loss: 0.5784 - val_accuracy: 0.7300\n",
      "Epoch 37/50\n",
      "17/17 [==============================] - 0s 11ms/step - loss: 0.5844 - accuracy: 0.7239 - val_loss: 0.5783 - val_accuracy: 0.7300\n",
      "Epoch 38/50\n",
      "17/17 [==============================] - 0s 9ms/step - loss: 0.5903 - accuracy: 0.7193 - val_loss: 0.5833 - val_accuracy: 0.7300\n",
      "Epoch 39/50\n",
      "17/17 [==============================] - 0s 9ms/step - loss: 0.5607 - accuracy: 0.7526 - val_loss: 0.5832 - val_accuracy: 0.7300\n",
      "Epoch 40/50\n",
      "17/17 [==============================] - 0s 10ms/step - loss: 0.5708 - accuracy: 0.7425 - val_loss: 0.5831 - val_accuracy: 0.7300\n",
      "Epoch 41/50\n",
      "17/17 [==============================] - 0s 10ms/step - loss: 0.5782 - accuracy: 0.7337 - val_loss: 0.5797 - val_accuracy: 0.7300\n",
      "Epoch 42/50\n",
      "17/17 [==============================] - 0s 10ms/step - loss: 0.5849 - accuracy: 0.7220 - val_loss: 0.5722 - val_accuracy: 0.7300\n",
      "Epoch 43/50\n",
      "17/17 [==============================] - 0s 13ms/step - loss: 0.5684 - accuracy: 0.7366 - val_loss: 0.5936 - val_accuracy: 0.7300\n",
      "Epoch 44/50\n",
      "17/17 [==============================] - 0s 8ms/step - loss: 0.5893 - accuracy: 0.7270 - val_loss: 0.5834 - val_accuracy: 0.7300\n",
      "Epoch 45/50\n",
      "17/17 [==============================] - 0s 9ms/step - loss: 0.5664 - accuracy: 0.7465 - val_loss: 0.5834 - val_accuracy: 0.7300\n",
      "Epoch 46/50\n",
      "17/17 [==============================] - 0s 9ms/step - loss: 0.5678 - accuracy: 0.7452 - val_loss: 0.5834 - val_accuracy: 0.7300\n",
      "Epoch 47/50\n",
      "17/17 [==============================] - 0s 9ms/step - loss: 0.5764 - accuracy: 0.7368 - val_loss: 0.5834 - val_accuracy: 0.7300\n",
      "Epoch 48/50\n",
      "17/17 [==============================] - 0s 9ms/step - loss: 0.5906 - accuracy: 0.7231 - val_loss: 0.5834 - val_accuracy: 0.7300\n",
      "Epoch 49/50\n",
      "17/17 [==============================] - 0s 10ms/step - loss: 0.5852 - accuracy: 0.7283 - val_loss: 0.5834 - val_accuracy: 0.7300\n",
      "Epoch 50/50\n",
      "17/17 [==============================] - 0s 9ms/step - loss: 0.5578 - accuracy: 0.7548 - val_loss: 0.5834 - val_accuracy: 0.7300\n"
     ]
    }
   ],
   "source": [
    "model.compile(optimizer='sgd',\n",
    "              loss='binary_crossentropy',\n",
    "              metrics=['accuracy'])\n",
    "\n",
    "histoire = model.fit(train_img,\n",
    "                    train_y,\n",
    "                    epochs=50,\n",
    "                    batch_size=32,\n",
    "                    validation_data=(val_img, val_y))"
   ]
  },
  {
   "cell_type": "code",
   "execution_count": 56,
   "metadata": {},
   "outputs": [
    {
     "name": "stdout",
     "output_type": "stream",
     "text": [
      "17/17 [==============================] - 0s 4ms/step - loss: 0.5732 - accuracy: 0.7399\n"
     ]
    }
   ],
   "source": [
    "results_train = model.evaluate(train_img, train_y)"
   ]
  },
  {
   "cell_type": "code",
   "execution_count": 57,
   "metadata": {},
   "outputs": [
    {
     "name": "stdout",
     "output_type": "stream",
     "text": [
      "6/6 [==============================] - 0s 3ms/step - loss: 0.6087 - accuracy: 0.7056\n"
     ]
    }
   ],
   "source": [
    "results_test = model.evaluate(test_img, test_y)"
   ]
  },
  {
   "cell_type": "code",
   "execution_count": 58,
   "metadata": {},
   "outputs": [
    {
     "data": {
      "text/plain": [
       "[0.5732227563858032, 0.7398523688316345]"
      ]
     },
     "execution_count": 58,
     "metadata": {},
     "output_type": "execute_result"
    }
   ],
   "source": [
    "results_train"
   ]
  },
  {
   "cell_type": "code",
   "execution_count": 59,
   "metadata": {},
   "outputs": [
    {
     "data": {
      "text/plain": [
       "[0.6086954474449158, 0.7055555582046509]"
      ]
     },
     "execution_count": 59,
     "metadata": {},
     "output_type": "execute_result"
    }
   ],
   "source": [
    "results_test"
   ]
  },
  {
   "cell_type": "code",
   "execution_count": 60,
   "metadata": {},
   "outputs": [],
   "source": [
    "model = models.Sequential()\n",
    "model.add(layers.Conv2D(32, (3, 3), activation='relu',\n",
    "                        input_shape=(64 ,64,  3)))\n",
    "model.add(layers.MaxPooling2D((2, 2)))\n",
    "\n",
    "model.add(layers.Conv2D(32, (4, 4), activation='relu'))\n",
    "model.add(layers.MaxPooling2D((2, 2)))\n",
    "\n",
    "model.add(layers.Conv2D(64, (3, 3), activation='relu'))\n",
    "model.add(layers.MaxPooling2D((2, 2)))\n",
    "\n",
    "model.add(layers.Flatten())\n",
    "model.add(layers.Dense(64, activation='relu'))\n",
    "model.add(layers.Dense(1, activation='sigmoid'))\n",
    "\n",
    "model.compile(loss='binary_crossentropy',\n",
    "              optimizer=\"sgd\",\n",
    "              metrics=['acc'])"
   ]
  },
  {
   "cell_type": "code",
   "execution_count": 61,
   "metadata": {},
   "outputs": [
    {
     "name": "stdout",
     "output_type": "stream",
     "text": [
      "Epoch 1/30\n",
      "17/17 [==============================] - 4s 191ms/step - loss: 0.6761 - acc: 0.5683 - val_loss: 0.6059 - val_acc: 0.7300\n",
      "Epoch 2/30\n",
      "17/17 [==============================] - 3s 162ms/step - loss: 0.5920 - acc: 0.7396 - val_loss: 0.5901 - val_acc: 0.7300\n",
      "Epoch 3/30\n",
      "17/17 [==============================] - 3s 175ms/step - loss: 0.5633 - acc: 0.7556 - val_loss: 0.5884 - val_acc: 0.7300\n",
      "Epoch 4/30\n",
      "17/17 [==============================] - 4s 216ms/step - loss: 0.5892 - acc: 0.7299 - val_loss: 0.5858 - val_acc: 0.7300\n",
      "Epoch 5/30\n",
      "17/17 [==============================] - 3s 195ms/step - loss: 0.5915 - acc: 0.7213 - val_loss: 0.5877 - val_acc: 0.7300\n",
      "Epoch 6/30\n",
      "17/17 [==============================] - 3s 191ms/step - loss: 0.6015 - acc: 0.7136 - val_loss: 0.5810 - val_acc: 0.7300\n",
      "Epoch 7/30\n",
      "17/17 [==============================] - 3s 196ms/step - loss: 0.5949 - acc: 0.7128 - val_loss: 0.5774 - val_acc: 0.7300\n",
      "Epoch 8/30\n",
      "17/17 [==============================] - 3s 191ms/step - loss: 0.5680 - acc: 0.7382 - val_loss: 0.5733 - val_acc: 0.7300\n",
      "Epoch 9/30\n",
      "17/17 [==============================] - 3s 194ms/step - loss: 0.5977 - acc: 0.7060 - val_loss: 0.5687 - val_acc: 0.7300\n",
      "Epoch 10/30\n",
      "17/17 [==============================] - 3s 198ms/step - loss: 0.5501 - acc: 0.7473 - val_loss: 0.5636 - val_acc: 0.7300\n",
      "Epoch 11/30\n",
      "17/17 [==============================] - 3s 198ms/step - loss: 0.5526 - acc: 0.7383 - val_loss: 0.5577 - val_acc: 0.7300\n",
      "Epoch 12/30\n",
      "17/17 [==============================] - 3s 194ms/step - loss: 0.5449 - acc: 0.7437 - val_loss: 0.5580 - val_acc: 0.7300\n",
      "Epoch 13/30\n",
      "17/17 [==============================] - 4s 232ms/step - loss: 0.5539 - acc: 0.7280 - val_loss: 0.5504 - val_acc: 0.7300\n",
      "Epoch 14/30\n",
      "17/17 [==============================] - 3s 202ms/step - loss: 0.5261 - acc: 0.7475 - val_loss: 0.5346 - val_acc: 0.7300\n",
      "Epoch 15/30\n",
      "17/17 [==============================] - 3s 202ms/step - loss: 0.5186 - acc: 0.7526 - val_loss: 0.5221 - val_acc: 0.7300\n",
      "Epoch 16/30\n",
      "17/17 [==============================] - 4s 215ms/step - loss: 0.5208 - acc: 0.7349 - val_loss: 0.5085 - val_acc: 0.7300\n",
      "Epoch 17/30\n",
      "17/17 [==============================] - 4s 232ms/step - loss: 0.4978 - acc: 0.7492 - val_loss: 0.4918 - val_acc: 0.7350\n",
      "Epoch 18/30\n",
      "17/17 [==============================] - 3s 202ms/step - loss: 0.4937 - acc: 0.7575 - val_loss: 0.5327 - val_acc: 0.7300\n",
      "Epoch 19/30\n",
      "17/17 [==============================] - 3s 207ms/step - loss: 0.4729 - acc: 0.7558 - val_loss: 0.4439 - val_acc: 0.7700\n",
      "Epoch 20/30\n",
      "17/17 [==============================] - 3s 206ms/step - loss: 0.4530 - acc: 0.7638 - val_loss: 0.4479 - val_acc: 0.8650\n",
      "Epoch 21/30\n",
      "17/17 [==============================] - 3s 203ms/step - loss: 0.4821 - acc: 0.7428 - val_loss: 0.4815 - val_acc: 0.8800\n",
      "Epoch 22/30\n",
      "17/17 [==============================] - 3s 199ms/step - loss: 0.4444 - acc: 0.7958 - val_loss: 0.4148 - val_acc: 0.7500\n",
      "Epoch 23/30\n",
      "17/17 [==============================] - 3s 203ms/step - loss: 0.4278 - acc: 0.8110 - val_loss: 0.3744 - val_acc: 0.8450\n",
      "Epoch 24/30\n",
      "17/17 [==============================] - 4s 207ms/step - loss: 0.4070 - acc: 0.8676 - val_loss: 0.3923 - val_acc: 0.7700\n",
      "Epoch 25/30\n",
      "17/17 [==============================] - 3s 198ms/step - loss: 0.4322 - acc: 0.8122 - val_loss: 0.3418 - val_acc: 0.8950\n",
      "Epoch 26/30\n",
      "17/17 [==============================] - 3s 201ms/step - loss: 0.3541 - acc: 0.8662 - val_loss: 0.3566 - val_acc: 0.8850\n",
      "Epoch 27/30\n",
      "17/17 [==============================] - 5s 274ms/step - loss: 0.3664 - acc: 0.8462 - val_loss: 0.3185 - val_acc: 0.8450\n",
      "Epoch 28/30\n",
      "17/17 [==============================] - 4s 225ms/step - loss: 0.2920 - acc: 0.8931 - val_loss: 0.2800 - val_acc: 0.9000\n",
      "Epoch 29/30\n",
      "17/17 [==============================] - 3s 206ms/step - loss: 0.2931 - acc: 0.8819 - val_loss: 0.2792 - val_acc: 0.8750\n",
      "Epoch 30/30\n",
      "17/17 [==============================] - 4s 211ms/step - loss: 0.3087 - acc: 0.8802 - val_loss: 0.2571 - val_acc: 0.9050\n"
     ]
    }
   ],
   "source": [
    "history = model.fit(train_images,\n",
    "                    train_y,\n",
    "                    epochs=30,\n",
    "                    batch_size=32,\n",
    "                    validation_data=(val_images, val_y))"
   ]
  },
  {
   "cell_type": "code",
   "execution_count": 62,
   "metadata": {},
   "outputs": [
    {
     "name": "stdout",
     "output_type": "stream",
     "text": [
      "17/17 [==============================] - 1s 40ms/step - loss: 0.2588 - acc: 0.9096\n"
     ]
    }
   ],
   "source": [
    "results_train = model.evaluate(train_images, train_y)"
   ]
  },
  {
   "cell_type": "code",
   "execution_count": 63,
   "metadata": {},
   "outputs": [
    {
     "name": "stdout",
     "output_type": "stream",
     "text": [
      "6/6 [==============================] - 0s 39ms/step - loss: 0.2762 - acc: 0.9056\n"
     ]
    }
   ],
   "source": [
    "results_test = model.evaluate(test_images, test_y)"
   ]
  },
  {
   "cell_type": "code",
   "execution_count": 64,
   "metadata": {},
   "outputs": [
    {
     "data": {
      "text/plain": [
       "[0.2587908208370209, 0.9095941185951233]"
      ]
     },
     "execution_count": 64,
     "metadata": {},
     "output_type": "execute_result"
    }
   ],
   "source": [
    "results_train"
   ]
  },
  {
   "cell_type": "code",
   "execution_count": 65,
   "metadata": {},
   "outputs": [
    {
     "data": {
      "text/plain": [
       "[0.27621692419052124, 0.9055555462837219]"
      ]
     },
     "execution_count": 65,
     "metadata": {},
     "output_type": "execute_result"
    }
   ],
   "source": [
    "results_test"
   ]
  },
  {
   "cell_type": "code",
   "execution_count": 66,
   "metadata": {},
   "outputs": [],
   "source": [
    "train_datagen = ImageDataGenerator(rescale=1./255, \n",
    "                                   rotation_range=40, \n",
    "                                   width_shift_range=0.2, \n",
    "                                   height_shift_range=0.2, \n",
    "                                   shear_range=0.3, \n",
    "                                   zoom_range=0.1, \n",
    "                                   horizontal_flip=False)"
   ]
  },
  {
   "cell_type": "code",
   "execution_count": 67,
   "metadata": {},
   "outputs": [
    {
     "name": "stdout",
     "output_type": "stream",
     "text": [
      "Found 585 images belonging to 2 classes.\n",
      "Found 1170 images belonging to 2 classes.\n",
      "Found 4101 images belonging to 2 classes.\n"
     ]
    }
   ],
   "source": [
    "# get all the data in the directory split/test (180 images), and reshape them\n",
    "test_generator = ImageDataGenerator(rescale=1./255).flow_from_directory(\n",
    "        test_folder, \n",
    "        target_size=(64, 64), \n",
    "        batch_size = 180,\n",
    "        class_mode='binary') \n",
    "\n",
    "# get all the data in the directory split/validation (200 images), and reshape them\n",
    "val_generator = ImageDataGenerator(rescale=1./255).flow_from_directory(\n",
    "        val_folder, \n",
    "        target_size=(64, 64),\n",
    "        batch_size = 32,\n",
    "        class_mode='binary')\n",
    "\n",
    "# get all the data in the directory split/train (542 images), and reshape them\n",
    "train_generator = train_datagen.flow_from_directory(\n",
    "        train_folder, \n",
    "        target_size=(64, 64), \n",
    "        batch_size = 32, \n",
    "        class_mode='binary')"
   ]
  },
  {
   "cell_type": "code",
   "execution_count": 68,
   "metadata": {},
   "outputs": [],
   "source": [
    "model = models.Sequential()\n",
    "model.add(layers.Conv2D(32, (3, 3), activation='relu',\n",
    "                        input_shape=(64 ,64,  3)))\n",
    "model.add(layers.MaxPooling2D((2, 2)))\n",
    "\n",
    "model.add(layers.Conv2D(32, (4, 4), activation='relu'))\n",
    "model.add(layers.MaxPooling2D((2, 2)))\n",
    "\n",
    "model.add(layers.Conv2D(64, (3, 3), activation='relu'))\n",
    "model.add(layers.MaxPooling2D((2, 2)))\n",
    "\n",
    "model.add(layers.Flatten())\n",
    "model.add(layers.Dense(64, activation='relu'))\n",
    "model.add(layers.Dense(1, activation='sigmoid'))\n",
    "\n",
    "model.compile(loss='binary_crossentropy',\n",
    "              optimizer= 'sgd',\n",
    "              metrics=['acc'])"
   ]
  },
  {
   "cell_type": "code",
   "execution_count": 69,
   "metadata": {},
   "outputs": [
    {
     "name": "stderr",
     "output_type": "stream",
     "text": [
      "/Users/alexandrabruno/opt/anaconda3/lib/python3.8/site-packages/tensorflow/python/keras/engine/training.py:1844: UserWarning: `Model.fit_generator` is deprecated and will be removed in a future version. Please use `Model.fit`, which supports generators.\n",
      "  warnings.warn('`Model.fit_generator` is deprecated and '\n"
     ]
    },
    {
     "name": "stdout",
     "output_type": "stream",
     "text": [
      "Epoch 1/30\n",
      "25/25 [==============================] - 33s 1s/step - loss: 0.6712 - acc: 0.5951 - val_loss: 0.5938 - val_acc: 0.7312\n",
      "Epoch 2/30\n",
      "25/25 [==============================] - 31s 1s/step - loss: 0.5497 - acc: 0.7779 - val_loss: 0.5750 - val_acc: 0.7475\n",
      "Epoch 3/30\n",
      "25/25 [==============================] - 34s 1s/step - loss: 0.6107 - acc: 0.7083 - val_loss: 0.5941 - val_acc: 0.7250\n",
      "Epoch 4/30\n",
      "25/25 [==============================] - 35s 1s/step - loss: 0.5629 - acc: 0.7582 - val_loss: 0.5953 - val_acc: 0.7262\n",
      "Epoch 5/30\n",
      "25/25 [==============================] - 42s 2s/step - loss: 0.5592 - acc: 0.7573 - val_loss: 0.5889 - val_acc: 0.7300\n",
      "Epoch 6/30\n",
      "25/25 [==============================] - 29s 1s/step - loss: 0.5609 - acc: 0.7560 - val_loss: 0.5816 - val_acc: 0.7337\n",
      "Epoch 7/30\n",
      "25/25 [==============================] - 29s 1s/step - loss: 0.5944 - acc: 0.7217 - val_loss: 0.5885 - val_acc: 0.7287\n",
      "Epoch 8/30\n",
      "25/25 [==============================] - 29s 1s/step - loss: 0.5600 - acc: 0.7522 - val_loss: 0.5773 - val_acc: 0.7375\n",
      "Epoch 9/30\n",
      "25/25 [==============================] - 28s 1s/step - loss: 0.5970 - acc: 0.7181 - val_loss: 0.5712 - val_acc: 0.7437\n",
      "Epoch 10/30\n",
      "25/25 [==============================] - 32s 1s/step - loss: 0.5858 - acc: 0.7264 - val_loss: 0.5780 - val_acc: 0.7337\n",
      "Epoch 11/30\n",
      "25/25 [==============================] - 28s 1s/step - loss: 0.5818 - acc: 0.7291 - val_loss: 0.5854 - val_acc: 0.7250\n",
      "Epoch 12/30\n",
      "25/25 [==============================] - 28s 1s/step - loss: 0.5935 - acc: 0.7114 - val_loss: 0.5890 - val_acc: 0.7225\n",
      "Epoch 13/30\n",
      "25/25 [==============================] - 28s 1s/step - loss: 0.5479 - acc: 0.7599 - val_loss: 0.5789 - val_acc: 0.7400\n",
      "Epoch 14/30\n",
      "25/25 [==============================] - 28s 1s/step - loss: 0.5707 - acc: 0.7426 - val_loss: 0.5726 - val_acc: 0.7312\n",
      "Epoch 15/30\n",
      "25/25 [==============================] - 33s 1s/step - loss: 0.5911 - acc: 0.7142 - val_loss: 0.5792 - val_acc: 0.7225\n",
      "Epoch 16/30\n",
      "25/25 [==============================] - 27s 1s/step - loss: 0.5625 - acc: 0.7419 - val_loss: 0.5667 - val_acc: 0.7362\n",
      "Epoch 17/30\n",
      "25/25 [==============================] - 29s 1s/step - loss: 0.5705 - acc: 0.7306 - val_loss: 0.5557 - val_acc: 0.7450\n",
      "Epoch 18/30\n",
      "25/25 [==============================] - 25s 996ms/step - loss: 0.5886 - acc: 0.7147 - val_loss: 0.5603 - val_acc: 0.7375\n",
      "Epoch 19/30\n",
      "25/25 [==============================] - 24s 988ms/step - loss: 0.5919 - acc: 0.7126 - val_loss: 0.5780 - val_acc: 0.7225\n",
      "Epoch 20/30\n",
      "25/25 [==============================] - 25s 993ms/step - loss: 0.5859 - acc: 0.7131 - val_loss: 0.5570 - val_acc: 0.7387\n",
      "Epoch 21/30\n",
      "25/25 [==============================] - 27s 1s/step - loss: 0.5909 - acc: 0.7060 - val_loss: 0.5695 - val_acc: 0.7150\n",
      "Epoch 22/30\n",
      "25/25 [==============================] - 26s 1s/step - loss: 0.5461 - acc: 0.7428 - val_loss: 0.5683 - val_acc: 0.7262\n",
      "Epoch 23/30\n",
      "25/25 [==============================] - 26s 1s/step - loss: 0.5613 - acc: 0.7306 - val_loss: 0.5648 - val_acc: 0.7150\n",
      "Epoch 24/30\n",
      "25/25 [==============================] - 25s 1s/step - loss: 0.5476 - acc: 0.7455 - val_loss: 0.5516 - val_acc: 0.7325\n",
      "Epoch 25/30\n",
      "25/25 [==============================] - 24s 996ms/step - loss: 0.5851 - acc: 0.7114 - val_loss: 0.5622 - val_acc: 0.7125\n",
      "Epoch 26/30\n",
      "25/25 [==============================] - 24s 978ms/step - loss: 0.5634 - acc: 0.7275 - val_loss: 0.5483 - val_acc: 0.7412\n",
      "Epoch 27/30\n",
      "25/25 [==============================] - 25s 1s/step - loss: 0.5560 - acc: 0.7251 - val_loss: 0.5557 - val_acc: 0.7163\n",
      "Epoch 28/30\n",
      "25/25 [==============================] - 25s 1s/step - loss: 0.5402 - acc: 0.7421 - val_loss: 0.5129 - val_acc: 0.7538\n",
      "Epoch 29/30\n",
      "25/25 [==============================] - 24s 978ms/step - loss: 0.5258 - acc: 0.7663 - val_loss: 0.5507 - val_acc: 0.7350\n",
      "Epoch 30/30\n",
      "25/25 [==============================] - 26s 1s/step - loss: 0.5327 - acc: 0.7491 - val_loss: 0.5243 - val_acc: 0.7163\n"
     ]
    }
   ],
   "source": [
    "history_2 = model.fit_generator(train_generator, \n",
    "                                steps_per_epoch=25, \n",
    "                                epochs=30, \n",
    "                                validation_data=val_generator, \n",
    "                                validation_steps=25)"
   ]
  },
  {
   "cell_type": "code",
   "execution_count": 70,
   "metadata": {},
   "outputs": [],
   "source": [
    "test_x, test_y = next(test_generator)"
   ]
  },
  {
   "cell_type": "code",
   "execution_count": 71,
   "metadata": {},
   "outputs": [
    {
     "name": "stdout",
     "output_type": "stream",
     "text": [
      "6/6 [==============================] - 0s 32ms/step - loss: 0.4856 - acc: 0.7722\n"
     ]
    }
   ],
   "source": [
    "results_test = model.evaluate(test_x, test_y)"
   ]
  },
  {
   "cell_type": "code",
   "execution_count": 72,
   "metadata": {},
   "outputs": [
    {
     "data": {
      "text/plain": [
       "[0.48560404777526855, 0.7722222208976746]"
      ]
     },
     "execution_count": 72,
     "metadata": {},
     "output_type": "execute_result"
    }
   ],
   "source": [
    "results_test"
   ]
  },
  {
   "cell_type": "code",
   "execution_count": null,
   "metadata": {},
   "outputs": [],
   "source": []
  }
 ],
 "metadata": {
  "kernelspec": {
   "display_name": "learn-env",
   "language": "python",
   "name": "learn-env"
  },
  "language_info": {
   "codemirror_mode": {
    "name": "ipython",
    "version": 3
   },
   "file_extension": ".py",
   "mimetype": "text/x-python",
   "name": "python",
   "nbconvert_exporter": "python",
   "pygments_lexer": "ipython3",
   "version": "3.8.3"
  },
  "toc": {
   "base_numbering": 1,
   "nav_menu": {},
   "number_sections": true,
   "sideBar": true,
   "skip_h1_title": false,
   "title_cell": "Table of Contents",
   "title_sidebar": "Contents",
   "toc_cell": false,
   "toc_position": {},
   "toc_section_display": true,
   "toc_window_display": false
  }
 },
 "nbformat": 4,
 "nbformat_minor": 4
}
